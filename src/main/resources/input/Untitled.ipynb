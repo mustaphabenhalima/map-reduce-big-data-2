{
 "cells": [
  {
   "cell_type": "code",
   "execution_count": 1,
   "id": "25f587a6",
   "metadata": {},
   "outputs": [],
   "source": [
    "import pandas as pd"
   ]
  },
  {
   "cell_type": "code",
   "execution_count": 3,
   "id": "6d9109b0",
   "metadata": {},
   "outputs": [],
   "source": [
    "df = pd.read_csv('trees.csv', delimiter=';')"
   ]
  },
  {
   "cell_type": "code",
   "execution_count": 13,
   "id": "4be40f95",
   "metadata": {},
   "outputs": [
    {
     "data": {
      "text/plain": [
       "GEOPOINT                   (48.8880577555, 2.31595908796)\n",
       "ARRONDISSEMENT                                         20\n",
       "GENRE                                            Platanus\n",
       "ESPECE                                       x acerifolia\n",
       "FAMILLE                                       Platanaceae\n",
       "ANNEE PLANTATION                                     1918\n",
       "HAUTEUR                                                45\n",
       "CIRCONFERENCE                                         595\n",
       "ADRESSE             route de la ceinture du Lac Daumesnil\n",
       "NOM COMMUN                                 Platane commun\n",
       "VARIETE                                              None\n",
       "OBJECTID                                               92\n",
       "NOM_EV                             Square des Batignolles\n",
       "dtype: object"
      ]
     },
     "execution_count": 13,
     "metadata": {},
     "output_type": "execute_result"
    }
   ],
   "source": [
    "df[df['ESPECE'] == 'x acerifolia'].max()"
   ]
  },
  {
   "cell_type": "code",
   "execution_count": null,
   "id": "3848ab83",
   "metadata": {},
   "outputs": [],
   "source": []
  }
 ],
 "metadata": {
  "kernelspec": {
   "display_name": "Python 3 (ipykernel)",
   "language": "python",
   "name": "python3"
  },
  "language_info": {
   "codemirror_mode": {
    "name": "ipython",
    "version": 3
   },
   "file_extension": ".py",
   "mimetype": "text/x-python",
   "name": "python",
   "nbconvert_exporter": "python",
   "pygments_lexer": "ipython3",
   "version": "3.9.6"
  }
 },
 "nbformat": 4,
 "nbformat_minor": 5
}
